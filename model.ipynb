{
 "cells": [
  {
   "cell_type": "code",
   "execution_count": 1,
   "id": "f4280a0b",
   "metadata": {},
   "outputs": [
    {
     "name": "stderr",
     "output_type": "stream",
     "text": [
      "/var/folders/sl/w8crh8h15s7_v1vhrmqn7whw0000gn/T/ipykernel_57565/3981537426.py:2: DtypeWarning: Columns (4) have mixed types. Specify dtype option on import or set low_memory=False.\n",
      "  df_title = pd.read_csv(\"title.basics.tsv\", sep = \"\\t\")\n"
     ]
    }
   ],
   "source": [
    "import pandas as pd\n",
    "df_title = pd.read_csv(\"title.basics.tsv\", sep = \"\\t\")\n",
    "df_ratings = pd.read_csv(\"title.ratings.tsv\", sep = \"\\t\")"
   ]
  },
  {
   "cell_type": "code",
   "execution_count": 2,
   "id": "d0b229c4",
   "metadata": {},
   "outputs": [],
   "source": [
    "# Join both TSVs on common column\n",
    "df_joined = df_title.join(df_ratings.set_index(\"tconst\"), on = \"tconst\")"
   ]
  },
  {
   "cell_type": "code",
   "execution_count": 3,
   "id": "9cedc249",
   "metadata": {},
   "outputs": [
    {
     "data": {
      "text/html": [
       "<div>\n",
       "<style scoped>\n",
       "    .dataframe tbody tr th:only-of-type {\n",
       "        vertical-align: middle;\n",
       "    }\n",
       "\n",
       "    .dataframe tbody tr th {\n",
       "        vertical-align: top;\n",
       "    }\n",
       "\n",
       "    .dataframe thead th {\n",
       "        text-align: right;\n",
       "    }\n",
       "</style>\n",
       "<table border=\"1\" class=\"dataframe\">\n",
       "  <thead>\n",
       "    <tr style=\"text-align: right;\">\n",
       "      <th></th>\n",
       "      <th>tconst</th>\n",
       "      <th>titleType</th>\n",
       "      <th>primaryTitle</th>\n",
       "      <th>originalTitle</th>\n",
       "      <th>isAdult</th>\n",
       "      <th>startYear</th>\n",
       "      <th>endYear</th>\n",
       "      <th>runtimeMinutes</th>\n",
       "      <th>genres</th>\n",
       "      <th>averageRating</th>\n",
       "      <th>numVotes</th>\n",
       "    </tr>\n",
       "  </thead>\n",
       "  <tbody>\n",
       "    <tr>\n",
       "      <th>0</th>\n",
       "      <td>tt0000001</td>\n",
       "      <td>short</td>\n",
       "      <td>Carmencita</td>\n",
       "      <td>Carmencita</td>\n",
       "      <td>0</td>\n",
       "      <td>1894</td>\n",
       "      <td>\\N</td>\n",
       "      <td>1</td>\n",
       "      <td>Documentary,Short</td>\n",
       "      <td>5.7</td>\n",
       "      <td>1965.0</td>\n",
       "    </tr>\n",
       "    <tr>\n",
       "      <th>1</th>\n",
       "      <td>tt0000002</td>\n",
       "      <td>short</td>\n",
       "      <td>Le clown et ses chiens</td>\n",
       "      <td>Le clown et ses chiens</td>\n",
       "      <td>0</td>\n",
       "      <td>1892</td>\n",
       "      <td>\\N</td>\n",
       "      <td>5</td>\n",
       "      <td>Animation,Short</td>\n",
       "      <td>5.8</td>\n",
       "      <td>262.0</td>\n",
       "    </tr>\n",
       "    <tr>\n",
       "      <th>2</th>\n",
       "      <td>tt0000003</td>\n",
       "      <td>short</td>\n",
       "      <td>Pauvre Pierrot</td>\n",
       "      <td>Pauvre Pierrot</td>\n",
       "      <td>0</td>\n",
       "      <td>1892</td>\n",
       "      <td>\\N</td>\n",
       "      <td>4</td>\n",
       "      <td>Animation,Comedy,Romance</td>\n",
       "      <td>6.5</td>\n",
       "      <td>1804.0</td>\n",
       "    </tr>\n",
       "    <tr>\n",
       "      <th>3</th>\n",
       "      <td>tt0000004</td>\n",
       "      <td>short</td>\n",
       "      <td>Un bon bock</td>\n",
       "      <td>Un bon bock</td>\n",
       "      <td>0</td>\n",
       "      <td>1892</td>\n",
       "      <td>\\N</td>\n",
       "      <td>12</td>\n",
       "      <td>Animation,Short</td>\n",
       "      <td>5.6</td>\n",
       "      <td>178.0</td>\n",
       "    </tr>\n",
       "    <tr>\n",
       "      <th>4</th>\n",
       "      <td>tt0000005</td>\n",
       "      <td>short</td>\n",
       "      <td>Blacksmith Scene</td>\n",
       "      <td>Blacksmith Scene</td>\n",
       "      <td>0</td>\n",
       "      <td>1893</td>\n",
       "      <td>\\N</td>\n",
       "      <td>1</td>\n",
       "      <td>Comedy,Short</td>\n",
       "      <td>6.2</td>\n",
       "      <td>2603.0</td>\n",
       "    </tr>\n",
       "  </tbody>\n",
       "</table>\n",
       "</div>"
      ],
      "text/plain": [
       "      tconst titleType            primaryTitle           originalTitle  \\\n",
       "0  tt0000001     short              Carmencita              Carmencita   \n",
       "1  tt0000002     short  Le clown et ses chiens  Le clown et ses chiens   \n",
       "2  tt0000003     short          Pauvre Pierrot          Pauvre Pierrot   \n",
       "3  tt0000004     short             Un bon bock             Un bon bock   \n",
       "4  tt0000005     short        Blacksmith Scene        Blacksmith Scene   \n",
       "\n",
       "  isAdult startYear endYear runtimeMinutes                    genres  \\\n",
       "0       0      1894      \\N              1         Documentary,Short   \n",
       "1       0      1892      \\N              5           Animation,Short   \n",
       "2       0      1892      \\N              4  Animation,Comedy,Romance   \n",
       "3       0      1892      \\N             12           Animation,Short   \n",
       "4       0      1893      \\N              1              Comedy,Short   \n",
       "\n",
       "   averageRating  numVotes  \n",
       "0            5.7    1965.0  \n",
       "1            5.8     262.0  \n",
       "2            6.5    1804.0  \n",
       "3            5.6     178.0  \n",
       "4            6.2    2603.0  "
      ]
     },
     "execution_count": 3,
     "metadata": {},
     "output_type": "execute_result"
    }
   ],
   "source": [
    "df_joined.head()"
   ]
  },
  {
   "cell_type": "code",
   "execution_count": 4,
   "id": "d1ff0fcd",
   "metadata": {},
   "outputs": [
    {
     "data": {
      "text/plain": [
       "Index(['tconst', 'titleType', 'primaryTitle', 'originalTitle', 'isAdult',\n",
       "       'startYear', 'endYear', 'runtimeMinutes', 'genres', 'averageRating',\n",
       "       'numVotes'],\n",
       "      dtype='object')"
      ]
     },
     "execution_count": 4,
     "metadata": {},
     "output_type": "execute_result"
    }
   ],
   "source": [
    "df_joined.columns"
   ]
  },
  {
   "cell_type": "code",
   "execution_count": 5,
   "id": "ee7693f4",
   "metadata": {},
   "outputs": [],
   "source": [
    "# Drop Columns that isn't required for Training\n",
    "df = df_joined[[\"isAdult\", \"startYear\", \"runtimeMinutes\", \"averageRating\"]]"
   ]
  },
  {
   "cell_type": "code",
   "execution_count": 6,
   "id": "5c3dfd2c",
   "metadata": {},
   "outputs": [],
   "source": [
    "# Data Cleaning\n",
    "df = df.dropna() # Remove NaNs\n",
    "df = df[df['startYear'] != \"\\\\N\"] # Remove non-numeric values\n",
    "df = df[df['runtimeMinutes'] != \"\\\\N\"] # Remove non-numeric values\n",
    "df['startYear'] = df['startYear'].astype(int) # Change type to int\n",
    "df['runtimeMinutes'] = df['runtimeMinutes'].astype(int) # Change type to int"
   ]
  },
  {
   "cell_type": "code",
   "execution_count": 7,
   "id": "8746db8e",
   "metadata": {},
   "outputs": [],
   "source": [
    "from sklearn.preprocessing import StandardScaler\n",
    "# Scale values\n",
    "scaler = StandardScaler()\n",
    "scaler.fit(df[['startYear', 'runtimeMinutes']])\n",
    "df[['startYear', 'runtimeMinutes']] = scaler.transform(df[['startYear', 'runtimeMinutes']])"
   ]
  },
  {
   "cell_type": "code",
   "execution_count": 8,
   "id": "4104cbf8",
   "metadata": {},
   "outputs": [],
   "source": [
    "# Choose random 30K values for training + testing\n",
    "df = df.sample(frac = 0.1).reset_index(drop = True)\n",
    "df = df[:30000]"
   ]
  },
  {
   "cell_type": "code",
   "execution_count": 9,
   "id": "549db9b0",
   "metadata": {},
   "outputs": [],
   "source": [
    "# Split into features and labels\n",
    "X = df.drop(['averageRating'], axis = 1)\n",
    "y = df['averageRating']"
   ]
  },
  {
   "cell_type": "code",
   "execution_count": 10,
   "id": "ecd2218d",
   "metadata": {},
   "outputs": [],
   "source": [
    "from sklearn.model_selection import train_test_split\n",
    "# train test split\n",
    "X_train, X_test, y_train, y_test = train_test_split(X, y, test_size=0.2, random_state=11695)"
   ]
  },
  {
   "cell_type": "code",
   "execution_count": 11,
   "id": "6962f79f",
   "metadata": {},
   "outputs": [
    {
     "data": {
      "text/plain": [
       "['model/rfm.pkl']"
      ]
     },
     "execution_count": 11,
     "metadata": {},
     "output_type": "execute_result"
    }
   ],
   "source": [
    "from sklearn.ensemble import RandomForestRegressor\n",
    "# Fit Model\n",
    "model = RandomForestRegressor()\n",
    "model.fit(X_train, y_train)\n",
    "\n",
    "# Save Model as Pkl file\n",
    "import joblib\n",
    "joblib.dump(model, \"model/rfm.pkl\")"
   ]
  },
  {
   "cell_type": "code",
   "execution_count": 12,
   "id": "3a960852",
   "metadata": {},
   "outputs": [],
   "source": [
    "# Predict\n",
    "y_preds = model.predict(X_test)"
   ]
  },
  {
   "cell_type": "code",
   "execution_count": 13,
   "id": "dadd05cc",
   "metadata": {},
   "outputs": [
    {
     "name": "stdout",
     "output_type": "stream",
     "text": [
      "0.020824342776192717\n"
     ]
    }
   ],
   "source": [
    "# R2 Score\n",
    "from sklearn.metrics import r2_score\n",
    "score = r2_score(y_test, y_preds)\n",
    "print(score)"
   ]
  },
  {
   "cell_type": "code",
   "execution_count": 14,
   "id": "f492e51f",
   "metadata": {},
   "outputs": [
    {
     "data": {
      "text/plain": [
       "MlemModel(location=Location(path='/Users/eesha/mlem-demo/model/ratings_model.mlem', project=None, rev=None, uri='file:///Users/eesha/mlem-demo/model/ratings_model.mlem', project_uri=None, fs=<fsspec.implementations.local.LocalFileSystem object at 0x312b1f490>), params={}, artifacts={'data': LocalArtifact(uri='ratings_model', size=69402637, hash='8272be320ad3236d542908deca17bc2a')}, requirements=Requirements(__root__=[InstallableRequirement(module='sklearn', version='1.1.2', package_name='scikit-learn', extra_index=None, source_url=None, vcs=None, vcs_commit=None), InstallableRequirement(module='pandas', version='1.5.3', package_name=None, extra_index=None, source_url=None, vcs=None, vcs_commit=None), InstallableRequirement(module='numpy', version='1.24.2', package_name=None, extra_index=None, source_url=None, vcs=None, vcs_commit=None)]), processors_cache={'model': SklearnModel(model=RandomForestRegressor(), io=SimplePickleIO(), methods={'predict': Signature(name='predict', args=[Argument(name='X', type_=DataFrameType(value=None, columns=['isAdult', 'startYear', 'runtimeMinutes'], dtypes=['object', 'float64', 'float64'], index_cols=[]), required=True, default=None, kw_only=False)], returns=NumpyNdarrayType(value=None, shape=(None,), dtype='float64'), varargs=None, varargs_type=None, varkw=None, varkw_type=None)})}, call_orders={'predict': [('model', 'predict')]})"
      ]
     },
     "execution_count": 14,
     "metadata": {},
     "output_type": "execute_result"
    }
   ],
   "source": [
    "# Working with MLEM - Save Models with MLEM\n",
    "from mlem.api import save\n",
    "# instead of joblib.dump, use save\n",
    "save(model, \"model/ratings_model\", sample_data = X)"
   ]
  },
  {
   "cell_type": "code",
   "execution_count": 15,
   "id": "c4a712f8",
   "metadata": {},
   "outputs": [
    {
     "data": {
      "text/plain": [
       "MlemModel(location=Location(path='/Users/eesha/mlem-demo/model/rfm2.mlem', project=None, rev=None, uri='file:///Users/eesha/mlem-demo/model/rfm2.mlem', project_uri=None, fs=<fsspec.implementations.local.LocalFileSystem object at 0x312b1f490>), params={}, artifacts={'data': LocalArtifact(uri='rfm2', size=69402790, hash='1a77e2cda84faf496fe884a07061a7d5')}, requirements=Requirements(__root__=[InstallableRequirement(module='sklearn', version='1.1.2', package_name='scikit-learn', extra_index=None, source_url=None, vcs=None, vcs_commit=None), InstallableRequirement(module='pandas', version='1.5.3', package_name=None, extra_index=None, source_url=None, vcs=None, vcs_commit=None), InstallableRequirement(module='numpy', version='1.24.2', package_name=None, extra_index=None, source_url=None, vcs=None, vcs_commit=None)]), processors_cache={'model': SklearnModel(model=RandomForestRegressor(), io=SimplePickleIO(), methods={'predict': Signature(name='predict', args=[Argument(name='X', type_=DataFrameType(value=None, columns=['isAdult', 'startYear', 'runtimeMinutes'], dtypes=['object', 'float64', 'float64'], index_cols=[]), required=True, default=None, kw_only=False)], returns=NumpyNdarrayType(value=None, shape=(None,), dtype='float64'), varargs=None, varargs_type=None, varkw=None, varkw_type=None)})}, call_orders={'predict': [('model', 'predict')]})"
      ]
     },
     "execution_count": 15,
     "metadata": {},
     "output_type": "execute_result"
    }
   ],
   "source": [
    "# Alternatively, load pre-saved pickle files and save them as MLEM models\n",
    "m = joblib.load(\"model/rfm.pkl\")\n",
    "save(m, \"model/rfm2\", sample_data = X)"
   ]
  }
 ],
 "metadata": {
  "kernelspec": {
   "display_name": "Python 3 (ipykernel)",
   "language": "python",
   "name": "python3"
  },
  "language_info": {
   "codemirror_mode": {
    "name": "ipython",
    "version": 3
   },
   "file_extension": ".py",
   "mimetype": "text/x-python",
   "name": "python",
   "nbconvert_exporter": "python",
   "pygments_lexer": "ipython3",
   "version": "3.9.12"
  }
 },
 "nbformat": 4,
 "nbformat_minor": 5
}
